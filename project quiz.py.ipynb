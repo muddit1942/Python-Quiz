{
 "cells": [
  {
   "cell_type": "code",
   "execution_count": 3,
   "id": "8dd15854",
   "metadata": {},
   "outputs": [
    {
     "name": "stdout",
     "output_type": "stream",
     "text": [
      "!!!welcome to the ask quiz!!!\n",
      "do you want to play this game (yes/no):yes\n",
      "how many questions do want to ask:2\n",
      "enter question you want to ask? name?\n",
      "enter answer of question you just asked.: naman\n",
      "enter question you want to ask? colour?\n",
      "enter answer of question you just asked.: red\n",
      "['name?', 'colour?']\n",
      "['naman', 'red']\n"
     ]
    }
   ],
   "source": [
    "print('!!!welcome to the ask quiz!!!')\n",
    "list_questions=[]\n",
    "list_answers=[]\n",
    "\n",
    "def q_a(answer,total_question):\n",
    "    if answer.lower()=='yes':\n",
    "        for i in range(1,total_questions+1):\n",
    "        \n",
    "            p=input(\"enter question you want to ask? \")\n",
    "            list_questions.append(p)\n",
    "            s=input(\"enter answer of question you just asked.: \")\n",
    "            list_answers.append(s)\n",
    "        \n",
    "    print(str(list_questions))\n",
    "    print(str(list_answers))\n",
    "\n",
    "\n",
    "answer=input(\"do you want to play this game (yes/no):\")\n",
    "\n",
    "total_questions=int(input(\"how many questions do want to ask:\"))\n",
    "y=q_a(answer,total_questions)\n",
    "\n"
   ]
  },
  {
   "cell_type": "code",
   "execution_count": 4,
   "id": "7ef9631d",
   "metadata": {},
   "outputs": [
    {
     "name": "stdout",
     "output_type": "stream",
     "text": [
      "name?\n",
      "enter the answer: naman\n",
      "colour?\n",
      "enter the answer: red\n",
      "['naman', 'red']\n"
     ]
    }
   ],
   "source": [
    "lenq=len(list_questions)\n",
    "l1=[]\n",
    "for k in range(lenq):\n",
    "    print(list_questions[k])\n",
    "    d=input(\"enter the answer: \")\n",
    "    l1.append(d)\n",
    "print(str(l1))\n"
   ]
  },
  {
   "cell_type": "code",
   "execution_count": 5,
   "id": "ec004703",
   "metadata": {},
   "outputs": [
    {
     "name": "stdout",
     "output_type": "stream",
     "text": [
      "thanku for playing this game,you attempted 2 questions correctly\n",
      "marks obtained 100.0\n",
      "alwidaaaaaa\n"
     ]
    }
   ],
   "source": [
    "lena=len(list_answers)\n",
    "score=0\n",
    "for j in range(lena):\n",
    "\n",
    "    if lena==len(l1):\n",
    "        if list_answers[j]==l1[j]:\n",
    "            score+=1\n",
    "        else:\n",
    "            score=score\n",
    "    else:\n",
    "        print(\"you haven't entered any value.\")\n",
    "print('thanku for playing this game,you attempted',score,\"questions correctly\")\n",
    "marks=(score/lena)*100\n",
    "print('marks obtained',marks)\n",
    "print('alwidaaaaaa')"
   ]
  }
 ],
 "metadata": {
  "kernelspec": {
   "display_name": "Python 3 (ipykernel)",
   "language": "python",
   "name": "python3"
  },
  "language_info": {
   "codemirror_mode": {
    "name": "ipython",
    "version": 3
   },
   "file_extension": ".py",
   "mimetype": "text/x-python",
   "name": "python",
   "nbconvert_exporter": "python",
   "pygments_lexer": "ipython3",
   "version": "3.9.12"
  }
 },
 "nbformat": 4,
 "nbformat_minor": 5
}
